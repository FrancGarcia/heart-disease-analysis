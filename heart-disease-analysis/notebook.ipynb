{
 "cells": [
  {
   "cell_type": "code",
   "execution_count": 1,
   "metadata": {},
   "outputs": [
    {
     "name": "stdout",
     "output_type": "stream",
     "text": [
      "Path to dataset files: C:\\Users\\Francisco\\.cache\\kagglehub\\datasets\\oktayrdeki\\heart-disease\\versions\\1\n"
     ]
    }
   ],
   "source": [
    "import kagglehub\n",
    "\n",
    "# Download latest version\n",
    "path = kagglehub.dataset_download(\"oktayrdeki/heart-disease\")\n",
    "\n",
    "print(\"Path to dataset files:\", path)"
   ]
  },
  {
   "cell_type": "code",
   "execution_count": 8,
   "metadata": {},
   "outputs": [],
   "source": [
    "#df = pd.read_csv(\"./data/heart_disease.csv\")\n",
    "\n",
    "# Display first few rows\n",
    "#print(df.head())\n"
   ]
  },
  {
   "cell_type": "code",
   "execution_count": 9,
   "metadata": {},
   "outputs": [],
   "source": [
    "# All imports needed\n",
    "import pandas as pd\n",
    "import numpy as np\n",
    "import xgboost as xgb\n",
    "from sklearn.impute import KNNImputer\n",
    "from sklearn.impute import SimpleImputer\n",
    "from sklearn.preprocessing import LabelEncoder\n",
    "from sklearn.model_selection import train_test_split\n",
    "from sklearn.preprocessing import StandardScaler, LabelEncoder\n",
    "from sklearn.ensemble import RandomForestClassifier\n",
    "from sklearn.metrics import accuracy_score, classification_report"
   ]
  },
  {
   "cell_type": "code",
   "execution_count": 10,
   "metadata": {},
   "outputs": [],
   "source": [
    "# import pandas as pd\n",
    "def load_data(file_path: str):\n",
    "    \"\"\"\n",
    "    Returns a DataFrame object of the csv file passed in.\n",
    "\n",
    "    :param file_path: String of the file path to load in\n",
    "\n",
    "    :return: A DataFrame object of the csv data\n",
    "    \"\"\"\n",
    "    assert(isinstance(file_path, str)), \"File path must be a valid path\"\n",
    "    # file_path = \"./data/heart_disease.csv\"\n",
    "    df = pd.read_csv(file_path)\n",
    "    return df"
   ]
  },
  {
   "cell_type": "code",
   "execution_count": 3,
   "metadata": {},
   "outputs": [],
   "source": [
    "def get_data_info(data_frame):\n",
    "    \"\"\"\n",
    "    View the structure of the data frame\n",
    "\n",
    "    :param data_frame: The data frame to get the structure of\n",
    "    \"\"\"\n",
    "    assert(isinstance(data_frame, pd.DataFrame)), \"The input must be DataFrame object\"\n",
    "    print(\"Summary of Dataset:\")\n",
    "    data_frame.info()\n",
    "    print(\"Get missing count\")\n",
    "    data_frame.isnull().sum() "
   ]
  },
  {
   "cell_type": "code",
   "execution_count": 4,
   "metadata": {},
   "outputs": [],
   "source": [
    "def get_num_rows(data_frame):\n",
    "    \"\"\"\n",
    "    Get number of rows of the data frame\n",
    "\n",
    "    :param data_frame: The data frame to get the number of rows\n",
    "    \"\"\"\n",
    "    assert(isinstance(data_frame, pd.DataFrame)), \"The input must be DataFrame object\"\n",
    "    return data_frame.shape[0]"
   ]
  },
  {
   "cell_type": "code",
   "execution_count": 5,
   "metadata": {},
   "outputs": [],
   "source": [
    "def classify_non_numerical_columns(data_frame):\n",
    "    \"\"\"\n",
    "    Classification model that predicts the output of non-numerical\n",
    "    data in the data frame for missing entries.\n",
    "\n",
    "    :param data_Frame: The data_frame.\n",
    "\n",
    "    :return: A new data frame with all of the classified columns.\n",
    "    \"\"\"\n",
    "    assert(isinstance(data_frame, pd.DataFrame)), \"The input must be DataFrame object\"\n",
    "    non_numeric_cols = data_frame.select_dtypes(exclude=['number']).columns\n",
    "    for col in non_numeric_cols:\n",
    "        label_encoder = LabelEncoder()\n",
    "        data_frame[col] = label_encoder.fit_transform(data_frame[col])\n",
    "    return data_frame"
   ]
  },
  {
   "cell_type": "code",
   "execution_count": 6,
   "metadata": {},
   "outputs": [
    {
     "name": "stdout",
     "output_type": "stream",
     "text": [
      "       Age  Gender  Blood Pressure  Cholesterol Level  Exercise Habits  \\\n",
      "0     56.0       1           153.0              155.0                0   \n",
      "1     69.0       0           146.0              286.0                0   \n",
      "2     46.0       1           126.0              216.0                1   \n",
      "3     32.0       0           122.0              293.0                0   \n",
      "4     60.0       1           166.0              242.0                1   \n",
      "...    ...     ...             ...                ...              ...   \n",
      "9995  25.0       0           136.0              243.0                2   \n",
      "9996  38.0       1           172.0              154.0                2   \n",
      "9997  73.0       1           152.0              201.0                0   \n",
      "9998  23.0       1           142.0              299.0                1   \n",
      "9999  38.0       0           128.0              193.0                2   \n",
      "\n",
      "      Smoking  Family Heart Disease  Diabetes        BMI  High Blood Pressure  \\\n",
      "0           1                     1         0  24.991591                    1   \n",
      "1           0                     1         1  25.221799                    0   \n",
      "2           0                     0         0  29.855447                    0   \n",
      "3           1                     1         0  24.130477                    1   \n",
      "4           1                     1         1  20.486289                    1   \n",
      "...       ...                   ...       ...        ...                  ...   \n",
      "9995        1                     0         0  18.788791                    1   \n",
      "9996        0                     0         0  31.856801                    1   \n",
      "9997        1                     0         1  26.899911                    0   \n",
      "9998        1                     0         1  34.964026                    1   \n",
      "9999        1                     1         1  25.111295                    0   \n",
      "\n",
      "      ...  High LDL Cholesterol  Alcohol Consumption  Stress Level  \\\n",
      "0     ...                     0                    0             2   \n",
      "1     ...                     0                    2             0   \n",
      "2     ...                     1                    1             1   \n",
      "3     ...                     1                    1             0   \n",
      "4     ...                     0                    1             0   \n",
      "...   ...                   ...                  ...           ...   \n",
      "9995  ...                     1                    2             0   \n",
      "9996  ...                     1                    3             0   \n",
      "9997  ...                     1                    3             1   \n",
      "9998  ...                     1                    2             0   \n",
      "9999  ...                     1                    0             2   \n",
      "\n",
      "      Sleep Hours  Sugar Consumption  Triglyceride Level  Fasting Blood Sugar  \\\n",
      "0        7.633228                  2               342.0                  NaN   \n",
      "1        8.744034                  2               133.0                157.0   \n",
      "2        4.440440                  1               393.0                 92.0   \n",
      "3        5.249405                  0               293.0                 94.0   \n",
      "4        7.030971                  0               263.0                154.0   \n",
      "...           ...                ...                 ...                  ...   \n",
      "9995     6.834954                  2               343.0                133.0   \n",
      "9996     8.247784                  1               377.0                 83.0   \n",
      "9997     4.436762                  1               248.0                 88.0   \n",
      "9998     8.526329                  2               113.0                153.0   \n",
      "9999     5.659394                  0               121.0                149.0   \n",
      "\n",
      "      CRP Level  Homocysteine Level  Heart Disease Status  \n",
      "0     12.969246           12.387250                     0  \n",
      "1      9.355389           19.298875                     0  \n",
      "2     12.709873           11.230926                     0  \n",
      "3     12.509046            5.961958                     0  \n",
      "4     10.381259            8.153887                     0  \n",
      "...         ...                 ...                   ...  \n",
      "9995   3.588814           19.132004                     1  \n",
      "9996   2.658267            9.715709                     1  \n",
      "9997   4.408867            9.492429                     1  \n",
      "9998   7.215634           11.873486                     1  \n",
      "9999  14.387810            6.208531                     1  \n",
      "\n",
      "[10000 rows x 21 columns]\n"
     ]
    }
   ],
   "source": [
    "df = load_data(\"./data/heart_disease.csv\")\n",
    "print(classify_non_numerical_columns(df))"
   ]
  },
  {
   "cell_type": "code",
   "execution_count": 38,
   "metadata": {},
   "outputs": [],
   "source": [
    "def clean_data(data_frame):\n",
    "    \"\"\" \n",
    "    Clean the data up from any missing values using KNN Imputer on\n",
    "    numerical columns and Simple Imputer on non-numerical columns.\n",
    "    Produces a cleaned data frame without missing entries. \n",
    "\n",
    "    :param data_frame: The data frame to clean up\n",
    "\n",
    "    :return: The cleaned data frame\n",
    "    \"\"\"\n",
    "    assert(isinstance(data_frame, pd.DataFrame)), \"The input must be DataFrame object\"\n",
    "\n",
    "    # KNNImputer only works on numerical data\n",
    "    # Apply to numerical columns with missing values\n",
    "    numerical_cols = data_frame.select_dtypes(include=['number']).columns\n",
    "    knn_imputer = KNNImputer(n_neighbors=5)\n",
    "    data_frame[numerical_cols] = knn_imputer.fit_transform(data_frame[numerical_cols])\n",
    "\n",
    "    # Apply SimpleImputer for non-numerical columns\n",
    "    non_numerical_cols = data_frame.select_dtypes(exclude=['number']).columns\n",
    "    mode_imputer = SimpleImputer(missing_values=np.nan, strategy='most_frequent')\n",
    "    data_frame[non_numerical_cols] = mode_imputer.fit_transform(data_frame[non_numerical_cols])\n",
    "\n",
    "    # TODO: Create a classifier pipeline for the non-numerical columns\n",
    "    return data_frame"
   ]
  },
  {
   "cell_type": "code",
   "execution_count": 39,
   "metadata": {},
   "outputs": [
    {
     "name": "stdout",
     "output_type": "stream",
     "text": [
      "Before cleaning: 10000\n",
      "After cleaning: 10000\n",
      "Duplicate rows: 0\n"
     ]
    }
   ],
   "source": [
    "def main():\n",
    "    \"\"\"\n",
    "    Main function to run complete data pipeline. Includes cleaning data,\n",
    "    visualization, predictor.\n",
    "    \"\"\"\n",
    "    df = load_data(\"./data/heart_disease.csv\")\n",
    "    print(f\"Before cleaning: {get_num_rows(df)}\")\n",
    "\n",
    "    df_cleaned = clean_data(df)\n",
    "    print(f\"After cleaning: {get_num_rows(df_cleaned)}\")\n",
    "\n",
    "    duplicate_counts = df_cleaned.duplicated().sum()\n",
    "    print(f\"Duplicate rows: {duplicate_counts}\")\n",
    "main()"
   ]
  },
  {
   "cell_type": "code",
   "execution_count": 20,
   "metadata": {},
   "outputs": [
    {
     "name": "stdout",
     "output_type": "stream",
     "text": [
      "     Age  Gender  Blood Pressure  Cholesterol Level  Exercise Habits  Smoking  \\\n",
      "0   56.0       1           153.0              155.0                0        1   \n",
      "1   69.0       0           146.0              286.0                0        0   \n",
      "2   46.0       1           126.0              216.0                1        0   \n",
      "3   32.0       0           122.0              293.0                0        1   \n",
      "4   60.0       1           166.0              242.0                1        1   \n",
      "5   25.0       1           152.0              257.0                1        1   \n",
      "6   78.0       0           121.0              175.0                0        1   \n",
      "7   38.0       0           161.0              187.0                1        1   \n",
      "8   56.0       0           135.0              291.0                1        0   \n",
      "9   75.0       1           144.0              252.0                1        1   \n",
      "10  36.0       0           179.0              191.0                0        0   \n",
      "11  40.0       0           134.0              296.0                0        0   \n",
      "12  28.0       0           143.0              215.0                0        1   \n",
      "13  28.0       0           134.0              191.0                0        1   \n",
      "14  41.0       0           150.0              187.0                0        0   \n",
      "15  70.0       1           133.0              290.0                2        1   \n",
      "16  53.0       0           173.0              255.0                2        0   \n",
      "17  57.0       0           133.0              245.0                1        0   \n",
      "18  41.0       1           125.0              219.0                2        1   \n",
      "19  20.0       0           133.0              187.0                0        1   \n",
      "\n",
      "    Family Heart Disease  Diabetes        BMI  High Blood Pressure  ...  \\\n",
      "0                      1         0  24.991591                    1  ...   \n",
      "1                      1         1  25.221799                    0  ...   \n",
      "2                      0         0  29.855447                    0  ...   \n",
      "3                      1         0  24.130477                    1  ...   \n",
      "4                      1         1  20.486289                    1  ...   \n",
      "5                      0         0  28.144681                    0  ...   \n",
      "6                      1         1  18.042332                    0  ...   \n",
      "7                      1         1  34.736683                    0  ...   \n",
      "8                      1         1  34.493112                    1  ...   \n",
      "9                      1         0  30.142149                    0  ...   \n",
      "10                     1         0  34.447618                    0  ...   \n",
      "11                     1         1  31.739622                    0  ...   \n",
      "12                     0         1  33.344017                    0  ...   \n",
      "13                     0         0  19.422428                    1  ...   \n",
      "14                     1         0  37.387840                    1  ...   \n",
      "15                     1         1  32.166488                    0  ...   \n",
      "16                     1         0  31.433878                    1  ...   \n",
      "17                     1         1  26.519301                    0  ...   \n",
      "18                     1         0  18.618979                    0  ...   \n",
      "19                     0         1  37.832158                    1  ...   \n",
      "\n",
      "    High LDL Cholesterol  Alcohol Consumption  Stress Level  Sleep Hours  \\\n",
      "0                      0                    0             2     7.633228   \n",
      "1                      0                    2             0     8.744034   \n",
      "2                      1                    1             1     4.440440   \n",
      "3                      1                    1             0     5.249405   \n",
      "4                      0                    1             0     7.030971   \n",
      "5                      0                    1             2     5.504876   \n",
      "6                      0                    2             2     9.240911   \n",
      "7                      0                    1             2     7.841008   \n",
      "8                      1                    0             1     6.941403   \n",
      "9                      1                    1             2     4.002662   \n",
      "10                     0                    2             0     9.151889   \n",
      "11                     0                    3             2     6.765162   \n",
      "12                     1                    2             1     7.188455   \n",
      "13                     0                    1             1     8.189629   \n",
      "14                     0                    2             1     9.624732   \n",
      "15                     1                    2             1     4.949260   \n",
      "16                     0                    2             2     4.427105   \n",
      "17                     0                    2             0     4.731453   \n",
      "18                     1                    0             0     8.444345   \n",
      "19                     1                    3             0     4.775667   \n",
      "\n",
      "    Sugar Consumption  Triglyceride Level  Fasting Blood Sugar  CRP Level  \\\n",
      "0                   2               342.0                  NaN  12.969246   \n",
      "1                   2               133.0                157.0   9.355389   \n",
      "2                   1               393.0                 92.0  12.709873   \n",
      "3                   0               293.0                 94.0  12.509046   \n",
      "4                   0               263.0                154.0  10.381259   \n",
      "5                   1               126.0                 91.0   4.297575   \n",
      "6                   2               107.0                 85.0  11.582983   \n",
      "7                   0               228.0                111.0   4.929381   \n",
      "8                   0               317.0                103.0   5.119015   \n",
      "9                   0               199.0                 96.0  10.005698   \n",
      "10                  0               231.0                  NaN  13.583347   \n",
      "11                  2               109.0                139.0   6.694785   \n",
      "12                  1               196.0                142.0   8.426725   \n",
      "13                  1               178.0                102.0   3.380839   \n",
      "14                  1               343.0                124.0  10.051791   \n",
      "15                  2               397.0                155.0   4.620012   \n",
      "16                  2               212.0                160.0  13.309069   \n",
      "17                  0               384.0                132.0   0.028436   \n",
      "18                  2               346.0                106.0   7.176291   \n",
      "19                  1               290.0                144.0  12.472821   \n",
      "\n",
      "    Homocysteine Level  Heart Disease Status  \n",
      "0            12.387250                     0  \n",
      "1            19.298875                     0  \n",
      "2            11.230926                     0  \n",
      "3             5.961958                     0  \n",
      "4             8.153887                     0  \n",
      "5            10.815983                     0  \n",
      "6            19.659461                     0  \n",
      "7            17.146599                     0  \n",
      "8             6.051129                     0  \n",
      "9             7.604357                     0  \n",
      "10           13.783722                     0  \n",
      "11           19.440650                     0  \n",
      "12           11.146408                     0  \n",
      "13           17.478149                     0  \n",
      "14            9.897205                     0  \n",
      "15            7.919947                     0  \n",
      "16            9.784993                     0  \n",
      "17           14.306619                     0  \n",
      "18           13.868994                     0  \n",
      "19           11.703830                     0  \n",
      "\n",
      "[20 rows x 21 columns]\n"
     ]
    }
   ],
   "source": [
    "print(df.head(20))"
   ]
  },
  {
   "cell_type": "code",
   "execution_count": 22,
   "metadata": {},
   "outputs": [
    {
     "data": {
      "text/plain": [
       "(Index(['Age', 'Gender', 'Blood Pressure', 'Cholesterol Level',\n",
       "        'Exercise Habits', 'Smoking', 'Family Heart Disease', 'Diabetes', 'BMI',\n",
       "        'High Blood Pressure', 'Low HDL Cholesterol', 'High LDL Cholesterol',\n",
       "        'Alcohol Consumption', 'Stress Level', 'Sleep Hours',\n",
       "        'Sugar Consumption', 'Triglyceride Level', 'Fasting Blood Sugar',\n",
       "        'CRP Level', 'Homocysteine Level', 'Heart Disease Status'],\n",
       "       dtype='object'),\n",
       " {'Age',\n",
       "  'Alcohol Consumption',\n",
       "  'BMI',\n",
       "  'Blood Pressure',\n",
       "  'CRP Level',\n",
       "  'Cholesterol Level',\n",
       "  'Fasting Blood Sugar',\n",
       "  'Homocysteine Level',\n",
       "  'Sleep Hours',\n",
       "  'Stress Level',\n",
       "  'Sugar Consumption',\n",
       "  'Triglyceride Level'},\n",
       " {'Heart Disease Status'},\n",
       " {'Diabetes',\n",
       "  'Exercise Habits',\n",
       "  'Family Heart Disease',\n",
       "  'Gender',\n",
       "  'High Blood Pressure',\n",
       "  'High LDL Cholesterol',\n",
       "  'Low HDL Cholesterol',\n",
       "  'Smoking'})"
      ]
     },
     "execution_count": 22,
     "metadata": {},
     "output_type": "execute_result"
    }
   ],
   "source": [
    "class_columns = {'Gender', 'Exercise Habits', 'Smoking', 'Family Heart Disease', 'Diabetes', 'High Blood Pressure', 'High LDL Cholesterol', 'Low HDL Cholesterol'}\n",
    "label_columns = {'Heart Disease Status'}\n",
    "continuous_columns = set(df.columns) - label_columns - class_columns\n",
    "df.columns, continuous_columns, label_columns, class_columns"
   ]
  },
  {
   "cell_type": "code",
   "execution_count": 27,
   "metadata": {},
   "outputs": [
    {
     "name": "stdout",
     "output_type": "stream",
     "text": [
      "[0]\ttrain-logloss:0.50132\tvalid-logloss:0.50328\n"
     ]
    },
    {
     "name": "stderr",
     "output_type": "stream",
     "text": [
      "/tmp/ipykernel_99250/2280308989.py:10: FutureWarning: Setting an item of incompatible dtype is deprecated and will raise in a future error of pandas. Value '[ 0.98437978 -1.00065708  0.98437978 ...  0.98437978  0.98437978\n",
      " -1.00065708]' has dtype incompatible with int64, please explicitly cast to a compatible dtype first.\n",
      "  X.iloc[:, :] = scaler.fit_transform(X)\n",
      "/tmp/ipykernel_99250/2280308989.py:10: FutureWarning: Setting an item of incompatible dtype is deprecated and will raise in a future error of pandas. Value '[-1.21353483e+00 -1.21353483e+00 -1.21232250e-03 ... -1.21353483e+00\n",
      " -1.21232250e-03  1.21111018e+00]' has dtype incompatible with int64, please explicitly cast to a compatible dtype first.\n",
      "  X.iloc[:, :] = scaler.fit_transform(X)\n",
      "/tmp/ipykernel_99250/2280308989.py:10: FutureWarning: Setting an item of incompatible dtype is deprecated and will raise in a future error of pandas. Value '[ 0.95644989 -1.02500834 -1.02500834 ...  0.95644989  0.95644989\n",
      "  0.95644989]' has dtype incompatible with int64, please explicitly cast to a compatible dtype first.\n",
      "  X.iloc[:, :] = scaler.fit_transform(X)\n",
      "/tmp/ipykernel_99250/2280308989.py:10: FutureWarning: Setting an item of incompatible dtype is deprecated and will raise in a future error of pandas. Value '[ 0.9883382   0.9883382  -0.99508183 ... -0.99508183 -0.99508183\n",
      "  0.9883382 ]' has dtype incompatible with int64, please explicitly cast to a compatible dtype first.\n",
      "  X.iloc[:, :] = scaler.fit_transform(X)\n",
      "/tmp/ipykernel_99250/2280308989.py:10: FutureWarning: Setting an item of incompatible dtype is deprecated and will raise in a future error of pandas. Value '[-0.99058626  0.98584283 -0.99058626 ...  0.98584283  0.98584283\n",
      "  0.98584283]' has dtype incompatible with int64, please explicitly cast to a compatible dtype first.\n",
      "  X.iloc[:, :] = scaler.fit_transform(X)\n",
      "/tmp/ipykernel_99250/2280308989.py:10: FutureWarning: Setting an item of incompatible dtype is deprecated and will raise in a future error of pandas. Value '[ 0.97521567 -1.0045157  -1.0045157  ... -1.0045157   0.97521567\n",
      " -1.0045157 ]' has dtype incompatible with int64, please explicitly cast to a compatible dtype first.\n",
      "  X.iloc[:, :] = scaler.fit_transform(X)\n",
      "/tmp/ipykernel_99250/2280308989.py:10: FutureWarning: Setting an item of incompatible dtype is deprecated and will raise in a future error of pandas. Value '[ 0.98029412  0.98029412  0.98029412 ...  0.98029412 -1.00009804\n",
      "  0.98029412]' has dtype incompatible with int64, please explicitly cast to a compatible dtype first.\n",
      "  X.iloc[:, :] = scaler.fit_transform(X)\n",
      "/tmp/ipykernel_99250/2280308989.py:10: FutureWarning: Setting an item of incompatible dtype is deprecated and will raise in a future error of pandas. Value '[-0.98778189 -0.98778189  0.99174094 ...  0.99174094  0.99174094\n",
      "  0.99174094]' has dtype incompatible with int64, please explicitly cast to a compatible dtype first.\n",
      "  X.iloc[:, :] = scaler.fit_transform(X)\n",
      "/tmp/ipykernel_99250/2280308989.py:10: FutureWarning: Setting an item of incompatible dtype is deprecated and will raise in a future error of pandas. Value '[-1.36266574  0.42490574 -0.46888    ...  1.31869148  0.42490574\n",
      " -1.36266574]' has dtype incompatible with int64, please explicitly cast to a compatible dtype first.\n",
      "  X.iloc[:, :] = scaler.fit_transform(X)\n",
      "/tmp/ipykernel_99250/2280308989.py:10: FutureWarning: Setting an item of incompatible dtype is deprecated and will raise in a future error of pandas. Value '[ 1.19826907 -1.23723717 -0.01948405 ... -0.01948405 -1.23723717\n",
      "  1.19826907]' has dtype incompatible with int64, please explicitly cast to a compatible dtype first.\n",
      "  X.iloc[:, :] = scaler.fit_transform(X)\n",
      "/tmp/ipykernel_99250/2280308989.py:10: FutureWarning: Setting an item of incompatible dtype is deprecated and will raise in a future error of pandas. Value '[ 1.22414149  1.22414149  0.0024434  ...  0.0024434   1.22414149\n",
      " -1.21925469]' has dtype incompatible with int64, please explicitly cast to a compatible dtype first.\n",
      "  X.iloc[:, :] = scaler.fit_transform(X)\n"
     ]
    },
    {
     "name": "stdout",
     "output_type": "stream",
     "text": [
      "[50]\ttrain-logloss:0.43059\tvalid-logloss:0.50136\n",
      "[76]\ttrain-logloss:0.40261\tvalid-logloss:0.50536\n"
     ]
    }
   ],
   "source": [
    "label_encoders = {}\n",
    "for col in df.select_dtypes(include=['object', 'category']).columns:\n",
    "    le = LabelEncoder()\n",
    "    df[col] = le.fit_transform(df[col])\n",
    "    label_encoders[col] = le  # Save encoders for future use\n",
    "\n",
    "X = df.drop(columns=label_columns)  # Replace with actual target column\n",
    "y = df[list(label_columns)]\n",
    "scaler = StandardScaler()\n",
    "X.iloc[:, :] = scaler.fit_transform(X)\n",
    "X_train, X_temp, y_train, y_temp = train_test_split(X, y, test_size=0.3, random_state=42, stratify=y)\n",
    "X_valid, X_test, y_valid, y_test = train_test_split(X_temp, y_temp, test_size=0.5, random_state=42, stratify=y_temp)\n",
    "dtrain = xgb.DMatrix(X_train, label=y_train)\n",
    "dvalid = xgb.DMatrix(X_valid, label=y_valid)\n",
    "dtest = xgb.DMatrix(X_test, label=y_test)\n",
    "params = {\n",
    "    'objective': 'binary:logistic',  # Binary classification\n",
    "    'eval_metric': 'logloss',  # Evaluation metric for binary classification\n",
    "    'max_depth': 5,  # Maximum depth of trees\n",
    "    'eta': 0.1,  # Learning rate\n",
    "    'subsample': 0.8,  # Fraction of data used per tree\n",
    "    'colsample_bytree': 0.8,  # Fraction of features used per tree\n",
    "    'random_state': 42\n",
    "}\n",
    "\n",
    "evals = [(dtrain, 'train'), (dvalid, 'valid')]\n",
    "\n",
    "model = xgb.train(\n",
    "    params=params,\n",
    "    dtrain=dtrain,\n",
    "    num_boost_round=1000,\n",
    "    evals=evals,\n",
    "    early_stopping_rounds=50,  # Stops if validation loss doesn't improve\n",
    "    verbose_eval=50\n",
    ")\n"
   ]
  },
  {
   "cell_type": "code",
   "execution_count": 28,
   "metadata": {},
   "outputs": [
    {
     "name": "stdout",
     "output_type": "stream",
     "text": [
      "Accuracy: 0.798\n",
      "              precision    recall  f1-score   support\n",
      "\n",
      "           0       0.80      1.00      0.89      1200\n",
      "           1       0.00      0.00      0.00       300\n",
      "\n",
      "    accuracy                           0.80      1500\n",
      "   macro avg       0.40      0.50      0.44      1500\n",
      "weighted avg       0.64      0.80      0.71      1500\n",
      "\n"
     ]
    }
   ],
   "source": [
    "y_pred_proba = model.predict(dtest)\n",
    "y_pred = (y_pred_proba > 0.5).astype(int)  # Convert probabilities to binary values\n",
    "\n",
    "# Print Accuracy and Classification Report\n",
    "print(\"Accuracy:\", accuracy_score(y_test, y_pred))\n",
    "print(classification_report(y_test, y_pred))"
   ]
  },
  {
   "cell_type": "code",
   "execution_count": 29,
   "metadata": {},
   "outputs": [
    {
     "data": {
      "image/png": "[encoded data removed]",
      "text/plain": [
       "<Figure size 640x480 with 1 Axes>"
      ]
     },
     "metadata": {},
     "output_type": "display_data"
    }
   ],
   "source": [
    "import matplotlib.pyplot as plt\n",
    "xgb.plot_importance(model)\n",
    "plt.show()"
   ]
  },
  {
   "cell_type": "code",
   "execution_count": null,
   "metadata": {},
   "outputs": [],
   "source": []
  }
 ],
 "metadata": {
  "kernelspec": {
   "display_name": "ece143",
   "language": "python",
   "name": "python3"
  },
  "language_info": {
   "codemirror_mode": {
    "name": "ipython",
    "version": 3
   },
   "file_extension": ".py",
   "mimetype": "text/x-python",
   "name": "python",
   "nbconvert_exporter": "python",
   "pygments_lexer": "ipython3",
   "version": "3.13.2"
  }
 },
 "nbformat": 4,
 "nbformat_minor": 2
}
