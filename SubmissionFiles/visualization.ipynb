{
 "cells": [
  {
   "cell_type": "code",
   "execution_count": null,
   "metadata": {},
   "outputs": [],
   "source": [
    "import importlib\n",
    "import data_clean_Kmodes\n",
    "import data_cleaning\n",
    "importlib.reload(data_cleaning)\n",
    "import data_visualization_fran\n",
    "importlib.reload(data_visualization_fran)\n",
    "import data_visualization_kira\n",
    "importlib.reload(data_visualization_kira)"
   ]
  },
  {
   "cell_type": "code",
   "execution_count": null,
   "metadata": {},
   "outputs": [],
   "source": [
    "cleaned_data = data_cleaning.main()\n",
    "cleaned_data_Kmodes = data_clean_Kmodes.main()"
   ]
  },
  {
   "cell_type": "code",
   "execution_count": null,
   "metadata": {},
   "outputs": [],
   "source": [
    "numerical_vars = [\"Age\", \"Blood Pressure\", \"Cholesterol Level\", \"BMI\", \"Sleep Hours\", \"Triglyceride Level\", \"Fasting Blood Sugar\", \"CRP Level\", \"Homocysteine Level\"]\n",
    "\n",
    "categorical_vars = ['Gender', 'Exercise Habits', 'Smoking', 'Family Heart Disease', 'Diabetes', 'High Blood Pressure', 'Low HDL Cholesterol', 'High LDL Cholesterol', 'Alcohol Consumption', 'Stress Level', 'Sugar Consumption']\n",
    "\n",
    "outcomes = [\"Stress Level\", \"BMI\", \"Blood Pressure\", \"Gender\"]\n",
    "\n",
    "data_visualization_kira.compute_plot_indicators_associations_heatmap(cleaned_data_Kmodes, outcomes, numerical_vars, categorical_vars)\n",
    "\n",
    "data_visualization_kira.compute_plot_heart_disease_associations(cleaned_data_Kmodes, numerical_vars, categorical_vars)"
   ]
  },
  {
   "cell_type": "code",
   "execution_count": null,
   "metadata": {},
   "outputs": [],
   "source": [
    "data_visualization_fran.create_histoplot(cleaned_data, \"BMI\", \"Heart Disease Status\")\n",
    "data_visualization_fran.create_histoplot(cleaned_data, \"BMI\", \"Heart Disease Status\", cat=\"Cholesterol Category\")"
   ]
  },
  {
   "cell_type": "code",
   "execution_count": null,
   "metadata": {},
   "outputs": [],
   "source": [
    "data_visualization_fran.create_histoplot(cleaned_data, \"Stress Level\", \"Heart Disease Status\")\n",
    "data_visualization_fran.create_histoplot(cleaned_data, \"Stress Level\", \"Heart Disease Status\", cat=\"Alcohol Consumption\")"
   ]
  },
  {
   "cell_type": "code",
   "execution_count": null,
   "metadata": {},
   "outputs": [],
   "source": [
    "data_visualization_fran.create_histoplot(cleaned_data, \"Blood Pressure\", \"Heart Disease Status\")\n",
    "data_visualization_fran.create_histoplot(cleaned_data, \"Blood Pressure Category\", \"Heart Disease Status\", cat=\"Diabetes\")"
   ]
  }
 ],
 "metadata": {
  "kernelspec": {
   "display_name": "Python 3",
   "language": "python",
   "name": "python3"
  },
  "language_info": {
   "codemirror_mode": {
    "name": "ipython",
    "version": 3
   },
   "file_extension": ".py",
   "mimetype": "text/x-python",
   "name": "python",
   "nbconvert_exporter": "python",
   "pygments_lexer": "ipython3",
   "version": "3.12.6"
  }
 },
 "nbformat": 4,
 "nbformat_minor": 2
}
