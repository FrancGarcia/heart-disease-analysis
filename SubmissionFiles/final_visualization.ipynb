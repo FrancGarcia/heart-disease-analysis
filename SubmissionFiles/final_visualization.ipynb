{
 "cells": [
  {
   "cell_type": "code",
   "execution_count": 1,
   "metadata": {},
   "outputs": [],
   "source": [
    "# Import everything as modules\n",
    "import data_cleaning\n",
    "import data_visualization_fran\n",
    "import data_visualization_kira"
   ]
  },
  {
   "cell_type": "code",
   "execution_count": 2,
   "metadata": {},
   "outputs": [
    {
     "name": "stdout",
     "output_type": "stream",
     "text": [
      "Num rows before cleaning: 10000\n",
      "Num of cols before cleaning: 21\n",
      "\n",
      "Num of rows after cleaning with DROP: 7067\n",
      "Num of cols after cleaning with DROP: 21\n",
      "Duplicate rows in cleaned DROP: 0\n",
      "\n",
      "Num of rows after cleaning with KNN: 10000\n",
      "Num of cols after cleaning with KNN: 21\n",
      "Duplicate rows in cleaned KNN: 0\n",
      "\n",
      "Gender\n",
      "Male      3564\n",
      "Female    3503\n",
      "Name: count, dtype: int64\n",
      "\n",
      "Number of men in clean with DROP: 3564\n",
      "Number of women in clean with DROP: 3503\n",
      "\n",
      "Gender\n",
      "Male      5022\n",
      "Female    4978\n",
      "Name: count, dtype: int64\n",
      "\n",
      "Number of men in clean with KNN: 5022\n",
      "Number of women in clean with KNN: 4978\n",
      "Heart Disease Status\n",
      "No     2000\n",
      "Yes    2000\n",
      "Name: count, dtype: int64\n"
     ]
    }
   ],
   "source": [
    "# Step 1: Data Cleaning\n",
    "cleaned_data = data_cleaning.main()"
   ]
  },
  {
   "cell_type": "code",
   "execution_count": 3,
   "metadata": {},
   "outputs": [
    {
     "ename": "AssertionError",
     "evalue": "Fourth argument must be valid feature in columns of dataframe",
     "output_type": "error",
     "traceback": [
      "\u001b[1;31m---------------------------------------------------------------------------\u001b[0m",
      "\u001b[1;31mAssertionError\u001b[0m                            Traceback (most recent call last)",
      "Cell \u001b[1;32mIn[3], line 2\u001b[0m\n\u001b[0;32m      1\u001b[0m \u001b[38;5;66;03m# Step 2: Data Visualization and Statistical Analysis\u001b[39;00m\n\u001b[1;32m----> 2\u001b[0m \u001b[43mdata_visualization_fran\u001b[49m\u001b[38;5;241;43m.\u001b[39;49m\u001b[43mcreate_histoplot\u001b[49m\u001b[43m(\u001b[49m\u001b[43mcleaned_data\u001b[49m\u001b[43m,\u001b[49m\u001b[43m \u001b[49m\u001b[38;5;124;43m\"\u001b[39;49m\u001b[38;5;124;43mBMI\u001b[39;49m\u001b[38;5;124;43m\"\u001b[39;49m\u001b[43m,\u001b[49m\u001b[43m \u001b[49m\u001b[38;5;124;43m\"\u001b[39;49m\u001b[38;5;124;43mHeart Disease Status\u001b[39;49m\u001b[38;5;124;43m\"\u001b[39;49m\u001b[43m)\u001b[49m\n\u001b[0;32m      3\u001b[0m data_visualization_fran\u001b[38;5;241m.\u001b[39mcreate_histoplot(cleaned_data, \u001b[38;5;124m\"\u001b[39m\u001b[38;5;124mBMI\u001b[39m\u001b[38;5;124m\"\u001b[39m, \u001b[38;5;124m\"\u001b[39m\u001b[38;5;124mHeart Disease Status\u001b[39m\u001b[38;5;124m\"\u001b[39m, col\u001b[38;5;241m=\u001b[39m\u001b[38;5;124m\"\u001b[39m\u001b[38;5;124mCholesterol Category\u001b[39m\u001b[38;5;124m\"\u001b[39m)\n\u001b[0;32m      5\u001b[0m data_visualization_fran\u001b[38;5;241m.\u001b[39mcreate_histoplot(cleaned_data, \u001b[38;5;124m\"\u001b[39m\u001b[38;5;124mStress Level\u001b[39m\u001b[38;5;124m\"\u001b[39m, \u001b[38;5;124m\"\u001b[39m\u001b[38;5;124mHeart Disease Status\u001b[39m\u001b[38;5;124m\"\u001b[39m)\n",
      "File \u001b[1;32mc:\\Users\\Francisco\\tech_projects\\ECE143_Project\\heart-disease-analysis\\SubmissionFiles\\data_visualization_fran.py:39\u001b[0m, in \u001b[0;36mcreate_histoplot\u001b[1;34m(dataframe, x, hue, cat)\u001b[0m\n\u001b[0;32m     37\u001b[0m \u001b[38;5;28;01massert\u001b[39;00m(\u001b[38;5;28misinstance\u001b[39m(x, \u001b[38;5;28mstr\u001b[39m) \u001b[38;5;129;01mand\u001b[39;00m \u001b[38;5;28mlen\u001b[39m(x) \u001b[38;5;241m>\u001b[39m \u001b[38;5;241m0\u001b[39m \u001b[38;5;129;01mand\u001b[39;00m x \u001b[38;5;129;01min\u001b[39;00m dataframe\u001b[38;5;241m.\u001b[39mcolumns), \u001b[38;5;124m\"\u001b[39m\u001b[38;5;124mSecond argument must be valid feature in columns of dataframe\u001b[39m\u001b[38;5;124m\"\u001b[39m\n\u001b[0;32m     38\u001b[0m \u001b[38;5;28;01massert\u001b[39;00m(\u001b[38;5;28misinstance\u001b[39m(hue, \u001b[38;5;28mstr\u001b[39m) \u001b[38;5;129;01mand\u001b[39;00m \u001b[38;5;28mlen\u001b[39m(hue) \u001b[38;5;241m>\u001b[39m \u001b[38;5;241m0\u001b[39m \u001b[38;5;129;01mand\u001b[39;00m hue \u001b[38;5;129;01min\u001b[39;00m dataframe\u001b[38;5;241m.\u001b[39mcolumns), \u001b[38;5;124m\"\u001b[39m\u001b[38;5;124mThird argument must be valid feature in columns of dataframe\u001b[39m\u001b[38;5;124m\"\u001b[39m\n\u001b[1;32m---> 39\u001b[0m \u001b[38;5;28;01massert\u001b[39;00m(\u001b[38;5;28misinstance\u001b[39m(cat, \u001b[38;5;28mstr\u001b[39m) \u001b[38;5;129;01mand\u001b[39;00m \u001b[38;5;28mlen\u001b[39m(cat) \u001b[38;5;241m>\u001b[39m \u001b[38;5;241m0\u001b[39m \u001b[38;5;129;01mand\u001b[39;00m cat \u001b[38;5;129;01min\u001b[39;00m dataframe\u001b[38;5;241m.\u001b[39mcolumns), \u001b[38;5;124m\"\u001b[39m\u001b[38;5;124mFourth argument must be valid feature in columns of dataframe\u001b[39m\u001b[38;5;124m\"\u001b[39m\n\u001b[0;32m     41\u001b[0m \u001b[38;5;28;01mif\u001b[39;00m cat \u001b[38;5;241m==\u001b[39m \u001b[38;5;124m\"\u001b[39m\u001b[38;5;124mCholesterol Category\u001b[39m\u001b[38;5;124m\"\u001b[39m:\n\u001b[0;32m     42\u001b[0m     \u001b[38;5;66;03m# 3-variable distribution with Cholesterol \u001b[39;00m\n\u001b[0;32m     43\u001b[0m     g \u001b[38;5;241m=\u001b[39m sns\u001b[38;5;241m.\u001b[39mFacetGrid(dataframe, col\u001b[38;5;241m=\u001b[39mcat, hue\u001b[38;5;241m=\u001b[39mhue, height\u001b[38;5;241m=\u001b[39m\u001b[38;5;241m4\u001b[39m, aspect\u001b[38;5;241m=\u001b[39m\u001b[38;5;241m1.2\u001b[39m, sharex\u001b[38;5;241m=\u001b[39m\u001b[38;5;28;01mTrue\u001b[39;00m, sharey\u001b[38;5;241m=\u001b[39m\u001b[38;5;28;01mTrue\u001b[39;00m, palette\u001b[38;5;241m=\u001b[39m{\u001b[38;5;124m\"\u001b[39m\u001b[38;5;124mNo\u001b[39m\u001b[38;5;124m\"\u001b[39m: \u001b[38;5;124m\"\u001b[39m\u001b[38;5;124mdarkred\u001b[39m\u001b[38;5;124m\"\u001b[39m, \u001b[38;5;124m\"\u001b[39m\u001b[38;5;124mYes\u001b[39m\u001b[38;5;124m\"\u001b[39m: \u001b[38;5;124m\"\u001b[39m\u001b[38;5;124mdarkgreen\u001b[39m\u001b[38;5;124m\"\u001b[39m}, hue_order\u001b[38;5;241m=\u001b[39m[\u001b[38;5;124m\"\u001b[39m\u001b[38;5;124mYes\u001b[39m\u001b[38;5;124m\"\u001b[39m, \u001b[38;5;124m\"\u001b[39m\u001b[38;5;124mNo\u001b[39m\u001b[38;5;124m\"\u001b[39m], col_order\u001b[38;5;241m=\u001b[39mdataframe[col]\u001b[38;5;241m.\u001b[39munique())\n",
      "\u001b[1;31mAssertionError\u001b[0m: Fourth argument must be valid feature in columns of dataframe"
     ]
    }
   ],
   "source": [
    "# Step 2: Data Visualization and Statistical Analysis\n",
    "data_visualization_fran.create_histoplot(cleaned_data, \"BMI\", \"Heart Disease Status\")\n",
    "data_visualization_fran.create_histoplot(cleaned_data, \"BMI\", \"Heart Disease Status\", col=\"Cholesterol Category\")\n",
    "\n",
    "data_visualization_fran.create_histoplot(cleaned_data, \"Stress Level\", \"Heart Disease Status\")\n",
    "data_visualization_fran.create_histoplot(cleaned_data, \"Stress Level\", \"Heart Disease Status\", col=\"Alcohol Consumption\")\n",
    "\n",
    "data_visualization_fran.create_histoplot(cleaned_data, \"Blood Pressure\", \"Heart Disease Status\")\n",
    "data_visualization_fran.create_histoplot(cleaned_data, \"Blood Pressure Category\", \"Heart Disease Status\", col=\"Diabetes\")"
   ]
  }
 ],
 "metadata": {
  "kernelspec": {
   "display_name": "venv",
   "language": "python",
   "name": "python3"
  },
  "language_info": {
   "codemirror_mode": {
    "name": "ipython",
    "version": 3
   },
   "file_extension": ".py",
   "mimetype": "text/x-python",
   "name": "python",
   "nbconvert_exporter": "python",
   "pygments_lexer": "ipython3",
   "version": "3.12.2"
  }
 },
 "nbformat": 4,
 "nbformat_minor": 2
}
