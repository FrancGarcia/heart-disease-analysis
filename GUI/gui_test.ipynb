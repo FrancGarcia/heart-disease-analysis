{
 "cells": [
  {
   "cell_type": "code",
   "execution_count": 9,
   "metadata": {},
   "outputs": [],
   "source": [
    "import tkinter as tk\n",
    "\n",
    "# Create the main window\n",
    "root = tk.Tk()\n",
    "root.title(\"Tkinter Input Box\")\n",
    "root.geometry(\"300x200\")\n",
    "\n",
    "# Function to get text from input box\n",
    "def show_text():\n",
    "    user_input = entry.get()  # Get text from Entry widget\n",
    "    label.config(text=f\"You entered: {user_input}\")  # Update label text\n",
    "\n",
    "# Create an Entry widget (input box)\n",
    "entry = tk.Entry(root, font=(\"Arial\", 12))\n",
    "entry.pack(pady=10)\n",
    "\n",
    "# Create a button to submit input\n",
    "button = tk.Button(root, text=\"Submit\", command=show_text)\n",
    "button.pack(pady=5)\n",
    "\n",
    "# Create a label to display the input\n",
    "label = tk.Label(root, text=\"Enter something above\", font=(\"Arial\", 12))\n",
    "label.pack(pady=10)\n",
    "\n",
    "# Run the Tkinter event loop\n",
    "root.mainloop()"
   ]
  },
  {
   "cell_type": "code",
   "execution_count": 12,
   "metadata": {},
   "outputs": [],
   "source": [
    "import tkinter as tk\n",
    "from matplotlib.figure import Figure\n",
    "from matplotlib.backends.backend_tkagg import FigureCanvasTkAgg\n",
    "\n",
    "# Create main window\n",
    "root = tk.Tk()\n",
    "root.title(\"Tkinter Matplotlib Plot\")\n",
    "root.geometry(\"500x400\")\n",
    "\n",
    "# Create a figure and axis\n",
    "fig = Figure(figsize=(5, 3), dpi=100)\n",
    "ax = fig.add_subplot(111)\n",
    "\n",
    "# Sample data for plotting\n",
    "x = [1, 2, 3, 4, 5]\n",
    "y = [10, 12, 15, 20, 25]\n",
    "ax.plot(x, y, marker=\"o\", linestyle=\"-\", color=\"b\")\n",
    "ax.set_title(\"Sample Plot\")\n",
    "ax.set_xlabel(\"X-axis\")\n",
    "ax.set_ylabel(\"Y-axis\")\n",
    "\n",
    "# Embed the Matplotlib figure in Tkinter\n",
    "canvas = FigureCanvasTkAgg(fig, master=root)\n",
    "canvas.draw()\n",
    "canvas.get_tk_widget().pack()\n",
    "\n",
    "# Run the Tkinter event loop\n",
    "root.mainloop()\n"
   ]
  },
  {
   "cell_type": "code",
   "execution_count": 15,
   "metadata": {},
   "outputs": [
    {
     "data": {
      "text/plain": [
       "matplotlib.backends.backend_tkagg.FigureCanvasTkAgg"
      ]
     },
     "execution_count": 15,
     "metadata": {},
     "output_type": "execute_result"
    }
   ],
   "source": [
    "type(canvas)"
   ]
  }
 ],
 "metadata": {
  "kernelspec": {
   "display_name": "Python 3",
   "language": "python",
   "name": "python3"
  },
  "language_info": {
   "codemirror_mode": {
    "name": "ipython",
    "version": 3
   },
   "file_extension": ".py",
   "mimetype": "text/x-python",
   "name": "python",
   "nbconvert_exporter": "python",
   "pygments_lexer": "ipython3",
   "version": "3.13.0"
  }
 },
 "nbformat": 4,
 "nbformat_minor": 2
}
