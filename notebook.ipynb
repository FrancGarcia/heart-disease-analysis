{
 "cells": [
  {
   "cell_type": "code",
   "execution_count": 1,
   "metadata": {},
   "outputs": [
    {
     "name": "stdout",
     "output_type": "stream",
     "text": [
      "Path to dataset files: C:\\Users\\Francisco\\.cache\\kagglehub\\datasets\\oktayrdeki\\heart-disease\\versions\\1\n"
     ]
    }
   ],
   "source": [
    "import kagglehub\n",
    "\n",
    "# Download latest version\n",
    "path = kagglehub.dataset_download(\"oktayrdeki/heart-disease\")\n",
    "\n",
    "print(\"Path to dataset files:\", path)"
   ]
  },
  {
   "cell_type": "code",
   "execution_count": 37,
   "metadata": {},
   "outputs": [],
   "source": [
    "#df = pd.read_csv(\"./data/heart_disease.csv\")\n",
    "\n",
    "# Display first few rows\n",
    "#print(df.head())\n"
   ]
  },
  {
   "cell_type": "code",
   "execution_count": 41,
   "metadata": {},
   "outputs": [],
   "source": [
    "# All imports needed\n",
    "import pandas as pd\n",
    "import numpy as np\n",
    "from sklearn.impute import KNNImputer\n",
    "from sklearn.impute import SimpleImputer\n",
    "from sklearn.preprocessing import LabelEncoder\n",
    "from sklearn.model_selection import train_test_split\n",
    "from sklearn.preprocessing import StandardScaler, LabelEncoder\n",
    "from sklearn.ensemble import RandomForestClassifier\n",
    "from sklearn.metrics import accuracy_score, classification_report"
   ]
  },
  {
   "cell_type": "code",
   "execution_count": null,
   "metadata": {},
   "outputs": [],
   "source": [
    "import pandas as pd\n",
    "def load_data(file_path: str):\n",
    "    \"\"\"\n",
    "    Returns a DataFrame object of the csv file passed in.\n",
    "\n",
    "    :param file_path: String of the file path to load in\n",
    "\n",
    "    :return: A DataFrame object of the csv data\n",
    "    \"\"\"\n",
    "    assert(isinstance(file_path, str)), \"File path must be a valid path\"\n",
    "    # file_path = \"./data/heart_disease.csv\"\n",
    "    df = pd.read_csv(file_path)\n",
    "    return df"
   ]
  },
  {
   "cell_type": "code",
   "execution_count": 3,
   "metadata": {},
   "outputs": [],
   "source": [
    "def get_data_info(data_frame):\n",
    "    \"\"\"\n",
    "    View the structure of the data frame\n",
    "\n",
    "    :param data_frame: The data frame to get the structure of\n",
    "    \"\"\"\n",
    "    assert(isinstance(data_frame, pd.DataFrame)), \"The input must be DataFrame object\"\n",
    "    print(\"Summary of Dataset:\")\n",
    "    data_frame.info()\n",
    "    print(\"Get missing count\")\n",
    "    data_frame.isnull().sum() "
   ]
  },
  {
   "cell_type": "code",
   "execution_count": 4,
   "metadata": {},
   "outputs": [],
   "source": [
    "def get_num_rows(data_frame):\n",
    "    \"\"\"\n",
    "    Get number of rows of the data frame\n",
    "\n",
    "    :param data_frame: The data frame to get the number of rows\n",
    "    \"\"\"\n",
    "    assert(isinstance(data_frame, pd.DataFrame)), \"The input must be DataFrame object\"\n",
    "    return data_frame.shape[0]"
   ]
  },
  {
   "cell_type": "code",
   "execution_count": 47,
   "metadata": {},
   "outputs": [],
   "source": [
    "def classify_non_numerical_columns(data_frame):\n",
    "    \"\"\"\n",
    "    Classification model that predicts the output of non-numerical\n",
    "    data in the data frame for missing entries.\n",
    "\n",
    "    :param data_Frame: The data_frame.\n",
    "\n",
    "    :return: A new data frame with all of the classified columns.\n",
    "    \"\"\"\n",
    "    assert(isinstance(data_frame, pd.DataFrame)), \"The input must be DataFrame object\"\n",
    "    non_numeric_cols = data_frame.select_dtypes(exclude=['number']).columns\n",
    "    for col in non_numeric_cols:\n",
    "        label_encoder = LabelEncoder()\n",
    "        data_frame[col] = label_encoder.fit_transform(data_frame[col])\n",
    "    return data_frame"
   ]
  },
  {
   "cell_type": "code",
   "execution_count": 48,
   "metadata": {},
   "outputs": [
    {
     "name": "stdout",
     "output_type": "stream",
     "text": [
      "       Age  Gender  Blood Pressure  Cholesterol Level  Exercise Habits  \\\n",
      "0     56.0       1           153.0              155.0                0   \n",
      "1     69.0       0           146.0              286.0                0   \n",
      "2     46.0       1           126.0              216.0                1   \n",
      "3     32.0       0           122.0              293.0                0   \n",
      "4     60.0       1           166.0              242.0                1   \n",
      "...    ...     ...             ...                ...              ...   \n",
      "9995  25.0       0           136.0              243.0                2   \n",
      "9996  38.0       1           172.0              154.0                2   \n",
      "9997  73.0       1           152.0              201.0                0   \n",
      "9998  23.0       1           142.0              299.0                1   \n",
      "9999  38.0       0           128.0              193.0                2   \n",
      "\n",
      "      Smoking  Family Heart Disease  Diabetes        BMI  High Blood Pressure  \\\n",
      "0           1                     1         0  24.991591                    1   \n",
      "1           0                     1         1  25.221799                    0   \n",
      "2           0                     0         0  29.855447                    0   \n",
      "3           1                     1         0  24.130477                    1   \n",
      "4           1                     1         1  20.486289                    1   \n",
      "...       ...                   ...       ...        ...                  ...   \n",
      "9995        1                     0         0  18.788791                    1   \n",
      "9996        0                     0         0  31.856801                    1   \n",
      "9997        1                     0         1  26.899911                    0   \n",
      "9998        1                     0         1  34.964026                    1   \n",
      "9999        1                     1         1  25.111295                    0   \n",
      "\n",
      "      ...  High LDL Cholesterol  Alcohol Consumption  Stress Level  \\\n",
      "0     ...                     0                    0             2   \n",
      "1     ...                     0                    2             0   \n",
      "2     ...                     1                    1             1   \n",
      "3     ...                     1                    1             0   \n",
      "4     ...                     0                    1             0   \n",
      "...   ...                   ...                  ...           ...   \n",
      "9995  ...                     1                    2             0   \n",
      "9996  ...                     1                    3             0   \n",
      "9997  ...                     1                    3             1   \n",
      "9998  ...                     1                    2             0   \n",
      "9999  ...                     1                    0             2   \n",
      "\n",
      "      Sleep Hours  Sugar Consumption  Triglyceride Level  Fasting Blood Sugar  \\\n",
      "0        7.633228                  2               342.0                  NaN   \n",
      "1        8.744034                  2               133.0                157.0   \n",
      "2        4.440440                  1               393.0                 92.0   \n",
      "3        5.249405                  0               293.0                 94.0   \n",
      "4        7.030971                  0               263.0                154.0   \n",
      "...           ...                ...                 ...                  ...   \n",
      "9995     6.834954                  2               343.0                133.0   \n",
      "9996     8.247784                  1               377.0                 83.0   \n",
      "9997     4.436762                  1               248.0                 88.0   \n",
      "9998     8.526329                  2               113.0                153.0   \n",
      "9999     5.659394                  0               121.0                149.0   \n",
      "\n",
      "      CRP Level  Homocysteine Level  Heart Disease Status  \n",
      "0     12.969246           12.387250                     0  \n",
      "1      9.355389           19.298875                     0  \n",
      "2     12.709873           11.230926                     0  \n",
      "3     12.509046            5.961958                     0  \n",
      "4     10.381259            8.153887                     0  \n",
      "...         ...                 ...                   ...  \n",
      "9995   3.588814           19.132004                     1  \n",
      "9996   2.658267            9.715709                     1  \n",
      "9997   4.408867            9.492429                     1  \n",
      "9998   7.215634           11.873486                     1  \n",
      "9999  14.387810            6.208531                     1  \n",
      "\n",
      "[10000 rows x 21 columns]\n"
     ]
    }
   ],
   "source": [
    "df = load_data(\"./data/heart_disease.csv\")\n",
    "print(classify_non_numerical_columns(df))"
   ]
  },
  {
   "cell_type": "code",
   "execution_count": 38,
   "metadata": {},
   "outputs": [],
   "source": [
    "def clean_data(data_frame):\n",
    "    \"\"\" \n",
    "    Clean the data up from any missing values using KNN Imputer on\n",
    "    numerical columns and Simple Imputer on non-numerical columns.\n",
    "    Produces a cleaned data frame without missing entries. \n",
    "\n",
    "    :param data_frame: The data frame to clean up\n",
    "\n",
    "    :return: The cleaned data frame\n",
    "    \"\"\"\n",
    "    assert(isinstance(data_frame, pd.DataFrame)), \"The input must be DataFrame object\"\n",
    "\n",
    "    # KNNImputer only works on numerical data\n",
    "    # Apply to numerical columns with missing values\n",
    "    numerical_cols = data_frame.select_dtypes(include=['number']).columns\n",
    "    knn_imputer = KNNImputer(n_neighbors=5)\n",
    "    data_frame[numerical_cols] = knn_imputer.fit_transform(data_frame[numerical_cols])\n",
    "\n",
    "    # Apply SimpleImputer for non-numerical columns\n",
    "    non_numerical_cols = data_frame.select_dtypes(exclude=['number']).columns\n",
    "    mode_imputer = SimpleImputer(missing_values=np.nan, strategy='most_frequent')\n",
    "    data_frame[non_numerical_cols] = mode_imputer.fit_transform(data_frame[non_numerical_cols])\n",
    "\n",
    "    # TODO: Create a classifier pipeline for the non-numerical columns\n",
    "    return data_frame"
   ]
  },
  {
   "cell_type": "code",
   "execution_count": 39,
   "metadata": {},
   "outputs": [
    {
     "name": "stdout",
     "output_type": "stream",
     "text": [
      "Before cleaning: 10000\n",
      "After cleaning: 10000\n",
      "Duplicate rows: 0\n"
     ]
    }
   ],
   "source": [
    "def main():\n",
    "    \"\"\"\n",
    "    Main function to run complete data pipeline. Includes cleaning data,\n",
    "    visualization, predictor.\n",
    "    \"\"\"\n",
    "    df = load_data(\"./data/heart_disease.csv\")\n",
    "    print(f\"Before cleaning: {get_num_rows(df)}\")\n",
    "\n",
    "    df_cleaned = clean_data(df)\n",
    "    print(f\"After cleaning: {get_num_rows(df_cleaned)}\")\n",
    "\n",
    "    duplicate_counts = df_cleaned.duplicated().sum()\n",
    "    print(f\"Duplicate rows: {duplicate_counts}\")\n",
    "main()"
   ]
  }
 ],
 "metadata": {
  "kernelspec": {
   "display_name": "venv",
   "language": "python",
   "name": "python3"
  },
  "language_info": {
   "codemirror_mode": {
    "name": "ipython",
    "version": 3
   },
   "file_extension": ".py",
   "mimetype": "text/x-python",
   "name": "python",
   "nbconvert_exporter": "python",
   "pygments_lexer": "ipython3",
   "version": "3.12.2"
  }
 },
 "nbformat": 4,
 "nbformat_minor": 2
}
