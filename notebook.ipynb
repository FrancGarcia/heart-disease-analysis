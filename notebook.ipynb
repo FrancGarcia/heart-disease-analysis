{
 "cells": [
  {
   "cell_type": "code",
   "execution_count": 4,
   "metadata": {},
   "outputs": [
    {
     "name": "stdout",
     "output_type": "stream",
     "text": [
      "Path to dataset files: C:\\Users\\Francisco\\.cache\\kagglehub\\datasets\\oktayrdeki\\heart-disease\\versions\\1\n"
     ]
    }
   ],
   "source": [
    "import kagglehub\n",
    "\n",
    "# Download latest version\n",
    "path = kagglehub.dataset_download(\"oktayrdeki/heart-disease\")\n",
    "\n",
    "print(\"Path to dataset files:\", path)"
   ]
  },
  {
   "cell_type": "code",
   "execution_count": 23,
   "metadata": {},
   "outputs": [
    {
     "name": "stdout",
     "output_type": "stream",
     "text": [
      "    Age  Gender  Blood Pressure  Cholesterol Level Exercise Habits Smoking  \\\n",
      "0  56.0    Male           153.0              155.0            High     Yes   \n",
      "1  69.0  Female           146.0              286.0            High      No   \n",
      "2  46.0    Male           126.0              216.0             Low      No   \n",
      "3  32.0  Female           122.0              293.0            High     Yes   \n",
      "4  60.0    Male           166.0              242.0             Low     Yes   \n",
      "\n",
      "  Family Heart Disease Diabetes        BMI High Blood Pressure  ...  \\\n",
      "0                  Yes       No  24.991591                 Yes  ...   \n",
      "1                  Yes      Yes  25.221799                  No  ...   \n",
      "2                   No       No  29.855447                  No  ...   \n",
      "3                  Yes       No  24.130477                 Yes  ...   \n",
      "4                  Yes      Yes  20.486289                 Yes  ...   \n",
      "\n",
      "  High LDL Cholesterol Alcohol Consumption Stress Level Sleep Hours  \\\n",
      "0                   No                High       Medium    7.633228   \n",
      "1                   No              Medium         High    8.744034   \n",
      "2                  Yes                 Low          Low    4.440440   \n",
      "3                  Yes                 Low         High    5.249405   \n",
      "4                   No                 Low         High    7.030971   \n",
      "\n",
      "   Sugar Consumption Triglyceride Level  Fasting Blood Sugar  CRP Level  \\\n",
      "0             Medium              342.0                  NaN  12.969246   \n",
      "1             Medium              133.0                157.0   9.355389   \n",
      "2                Low              393.0                 92.0  12.709873   \n",
      "3               High              293.0                 94.0  12.509046   \n",
      "4               High              263.0                154.0  10.381259   \n",
      "\n",
      "   Homocysteine Level  Heart Disease Status  \n",
      "0           12.387250                    No  \n",
      "1           19.298875                    No  \n",
      "2           11.230926                    No  \n",
      "3            5.961958                    No  \n",
      "4            8.153887                    No  \n",
      "\n",
      "[5 rows x 21 columns]\n"
     ]
    }
   ],
   "source": [
    "import pandas as pd\n",
    "\n",
    "df = pd.read_csv(\"./data/heart_disease.csv\")\n",
    "\n",
    "# Display first few rows\n",
    "print(df.head())\n"
   ]
  },
  {
   "cell_type": "code",
   "execution_count": null,
   "metadata": {},
   "outputs": [],
   "source": [
    "def load_data(file_path: str):\n",
    "    \"\"\"\n",
    "    Returns a DataFrame object of the csv file passed in.\n",
    "\n",
    "    :param file_path: String of the file path to load in\n",
    "\n",
    "    :return: A DataFrame object of the csv data\n",
    "    \"\"\"\n",
    "    assert(isinstance(file_path, str)), \"File path must be a valid path\"\n",
    "    # file_path = \"./data/heart_disease.csv\"\n",
    "    df = pd.read_csv(file_path)\n",
    "    return df"
   ]
  },
  {
   "cell_type": "code",
   "execution_count": 29,
   "metadata": {},
   "outputs": [],
   "source": [
    "def get_data_info(data_frame):\n",
    "    \"\"\"\n",
    "    View the structure of the data frame\n",
    "\n",
    "    :param data_frame: The data frame to get the structure of\n",
    "    \"\"\"\n",
    "    assert(isinstance(data_frame, pd.DataFrame)), \"The input must be DataFrame object\"\n",
    "    print(\"Summary of Dataset:\")\n",
    "    data_frame.info()\n",
    "    print(\"Get missing count\")\n",
    "    data_frame.isnull().sum() "
   ]
  },
  {
   "cell_type": "code",
   "execution_count": null,
   "metadata": {},
   "outputs": [],
   "source": [
    "def clean_data(data_frame):\n",
    "    \"\"\" \n",
    "    Clean the data up from any missing values. Produces a cleaned data frame without missing entries. \n",
    "\n",
    "    :param data_frame: The data frame to clean up\n",
    "\n",
    "    :return: The cleaned data frame\n",
    "    \"\"\"\n",
    "    assert(isinstance(data_frame, pd.DataFrame)), \"The input must be DataFrame object\"\n",
    "    print(\"Before cleaning up missing values\")\n",
    "    get_data_info(data_frame)\n",
    "    # Remove rows with any missing entries --> incorporate a better technique later\n",
    "    data_frame.dropna(inplace=True)\n",
    "    print(\"After cleaning up missing values\")\n",
    "    get_data_info(data_frame)\n",
    "    return data_frame\n"
   ]
  }
 ],
 "metadata": {
  "kernelspec": {
   "display_name": "venv",
   "language": "python",
   "name": "python3"
  },
  "language_info": {
   "codemirror_mode": {
    "name": "ipython",
    "version": 3
   },
   "file_extension": ".py",
   "mimetype": "text/x-python",
   "name": "python",
   "nbconvert_exporter": "python",
   "pygments_lexer": "ipython3",
   "version": "3.12.2"
  }
 },
 "nbformat": 4,
 "nbformat_minor": 2
}
