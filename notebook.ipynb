{
 "cells": [
  {
   "cell_type": "code",
   "execution_count": 4,
   "metadata": {},
   "outputs": [
    {
     "name": "stdout",
     "output_type": "stream",
     "text": [
      "Path to dataset files: C:\\Users\\Francisco\\.cache\\kagglehub\\datasets\\oktayrdeki\\heart-disease\\versions\\1\n"
     ]
    }
   ],
   "source": [
    "import kagglehub\n",
    "\n",
    "# Download latest version\n",
    "path = kagglehub.dataset_download(\"oktayrdeki/heart-disease\")\n",
    "\n",
    "print(\"Path to dataset files:\", path)"
   ]
  },
  {
   "cell_type": "code",
   "execution_count": 4,
   "metadata": {},
   "outputs": [
    {
     "name": "stdout",
     "output_type": "stream",
     "text": [
      "    Age  Gender  Blood Pressure  Cholesterol Level Exercise Habits Smoking  \\\n",
      "0  56.0    Male           153.0              155.0            High     Yes   \n",
      "1  69.0  Female           146.0              286.0            High      No   \n",
      "2  46.0    Male           126.0              216.0             Low      No   \n",
      "3  32.0  Female           122.0              293.0            High     Yes   \n",
      "4  60.0    Male           166.0              242.0             Low     Yes   \n",
      "\n",
      "  Family Heart Disease Diabetes        BMI High Blood Pressure  ...  \\\n",
      "0                  Yes       No  24.991591                 Yes  ...   \n",
      "1                  Yes      Yes  25.221799                  No  ...   \n",
      "2                   No       No  29.855447                  No  ...   \n",
      "3                  Yes       No  24.130477                 Yes  ...   \n",
      "4                  Yes      Yes  20.486289                 Yes  ...   \n",
      "\n",
      "  High LDL Cholesterol Alcohol Consumption Stress Level Sleep Hours  \\\n",
      "0                   No                High       Medium    7.633228   \n",
      "1                   No              Medium         High    8.744034   \n",
      "2                  Yes                 Low          Low    4.440440   \n",
      "3                  Yes                 Low         High    5.249405   \n",
      "4                   No                 Low         High    7.030971   \n",
      "\n",
      "   Sugar Consumption Triglyceride Level  Fasting Blood Sugar  CRP Level  \\\n",
      "0             Medium              342.0                  NaN  12.969246   \n",
      "1             Medium              133.0                157.0   9.355389   \n",
      "2                Low              393.0                 92.0  12.709873   \n",
      "3               High              293.0                 94.0  12.509046   \n",
      "4               High              263.0                154.0  10.381259   \n",
      "\n",
      "   Homocysteine Level  Heart Disease Status  \n",
      "0           12.387250                    No  \n",
      "1           19.298875                    No  \n",
      "2           11.230926                    No  \n",
      "3            5.961958                    No  \n",
      "4            8.153887                    No  \n",
      "\n",
      "[5 rows x 21 columns]\n"
     ]
    }
   ],
   "source": [
    "import pandas as pd\n",
    "\n",
    "df = pd.read_csv(\"./data/heart_disease.csv\")\n",
    "\n",
    "# Display first few rows\n",
    "print(df.head())\n"
   ]
  },
  {
   "cell_type": "code",
   "execution_count": 10,
   "metadata": {},
   "outputs": [
    {
     "name": "stdout",
     "output_type": "stream",
     "text": [
      "Summary of Dataset:\n",
      "<class 'pandas.core.frame.DataFrame'>\n",
      "RangeIndex: 10000 entries, 0 to 9999\n",
      "Data columns (total 21 columns):\n",
      " #   Column                Non-Null Count  Dtype  \n",
      "---  ------                --------------  -----  \n",
      " 0   Age                   9971 non-null   float64\n",
      " 1   Gender                9981 non-null   object \n",
      " 2   Blood Pressure        9981 non-null   float64\n",
      " 3   Cholesterol Level     9970 non-null   float64\n",
      " 4   Exercise Habits       9975 non-null   object \n",
      " 5   Smoking               9975 non-null   object \n",
      " 6   Family Heart Disease  9979 non-null   object \n",
      " 7   Diabetes              9970 non-null   object \n",
      " 8   BMI                   9978 non-null   float64\n",
      " 9   High Blood Pressure   9974 non-null   object \n",
      " 10  Low HDL Cholesterol   9975 non-null   object \n",
      " 11  High LDL Cholesterol  9974 non-null   object \n",
      " 12  Alcohol Consumption   7414 non-null   object \n",
      " 13  Stress Level          9978 non-null   object \n",
      " 14  Sleep Hours           9975 non-null   float64\n",
      " 15  Sugar Consumption     9970 non-null   object \n",
      " 16  Triglyceride Level    9974 non-null   float64\n",
      " 17  Fasting Blood Sugar   9978 non-null   float64\n",
      " 18  CRP Level             9974 non-null   float64\n",
      " 19  Homocysteine Level    9980 non-null   float64\n",
      " 20  Heart Disease Status  10000 non-null  object \n",
      "dtypes: float64(9), object(12)\n",
      "memory usage: 1.6+ MB\n"
     ]
    }
   ],
   "source": [
    "# Get summary of the dataset\n",
    "print(\"Summary of Dataset:\")\n",
    "df.info() "
   ]
  },
  {
   "cell_type": "code",
   "execution_count": 11,
   "metadata": {},
   "outputs": [
    {
     "name": "stdout",
     "output_type": "stream",
     "text": [
      "Get missing count\n"
     ]
    },
    {
     "data": {
      "text/plain": [
       "Age                       29\n",
       "Gender                    19\n",
       "Blood Pressure            19\n",
       "Cholesterol Level         30\n",
       "Exercise Habits           25\n",
       "Smoking                   25\n",
       "Family Heart Disease      21\n",
       "Diabetes                  30\n",
       "BMI                       22\n",
       "High Blood Pressure       26\n",
       "Low HDL Cholesterol       25\n",
       "High LDL Cholesterol      26\n",
       "Alcohol Consumption     2586\n",
       "Stress Level              22\n",
       "Sleep Hours               25\n",
       "Sugar Consumption         30\n",
       "Triglyceride Level        26\n",
       "Fasting Blood Sugar       22\n",
       "CRP Level                 26\n",
       "Homocysteine Level        20\n",
       "Heart Disease Status       0\n",
       "dtype: int64"
      ]
     },
     "execution_count": 11,
     "metadata": {},
     "output_type": "execute_result"
    }
   ],
   "source": [
    "print(\"Get missing count\")\n",
    "df.isnull().sum() "
   ]
  },
  {
   "cell_type": "code",
   "execution_count": null,
   "metadata": {},
   "outputs": [],
   "source": [
    "# How should we handle the missing data points? Mean, Median? Mode? KNN? What results does each method produce? remove them completely?"
   ]
  }
 ],
 "metadata": {
  "kernelspec": {
   "display_name": "venv",
   "language": "python",
   "name": "python3"
  },
  "language_info": {
   "codemirror_mode": {
    "name": "ipython",
    "version": 3
   },
   "file_extension": ".py",
   "mimetype": "text/x-python",
   "name": "python",
   "nbconvert_exporter": "python",
   "pygments_lexer": "ipython3",
   "version": "3.12.2"
  }
 },
 "nbformat": 4,
 "nbformat_minor": 2
}
